{
  "nbformat": 4,
  "nbformat_minor": 0,
  "metadata": {
    "colab": {
      "provenance": [],
      "authorship_tag": "ABX9TyMek31gOOHERYdmFmuyJsEZ",
      "include_colab_link": true
    },
    "kernelspec": {
      "name": "python3",
      "display_name": "Python 3"
    },
    "language_info": {
      "name": "python"
    }
  },
  "cells": [
    {
      "cell_type": "markdown",
      "metadata": {
        "id": "view-in-github",
        "colab_type": "text"
      },
      "source": [
        "<a href=\"https://colab.research.google.com/github/ujwala1720/peer_graded_assignment/blob/main/Graded_Assignment.ipynb\" target=\"_parent\"><img src=\"https://colab.research.google.com/assets/colab-badge.svg\" alt=\"Open In Colab\"/></a>"
      ]
    },
    {
      "cell_type": "code",
      "execution_count": 2,
      "metadata": {
        "id": "QektEYVLMx9B"
      },
      "outputs": [],
      "source": [
        "# ASSIGNMENT"
      ]
    },
    {
      "cell_type": "code",
      "source": [
        "# I have created markdown cells and listed tools,libraries and languages used in data science and some exdcutable codes mentioned in my assignment"
      ],
      "metadata": {
        "id": "k6lsuLExM8W5"
      },
      "execution_count": null,
      "outputs": []
    },
    {
      "cell_type": "code",
      "source": [
        "#List Of Data Science Languages\n",
        "Python\n",
        "R\n",
        "Julia\n",
        "Java Script"
      ],
      "metadata": {
        "id": "PHzj1QxrOtp8"
      },
      "execution_count": null,
      "outputs": []
    },
    {
      "cell_type": "code",
      "source": [
        "#List Of Data Science Libraries\n",
        "Numpy\n",
        "Pandas\n",
        "Scikitlearn\n",
        "matplotlib"
      ],
      "metadata": {
        "id": "0nVlDqo-OvVq"
      },
      "execution_count": null,
      "outputs": []
    },
    {
      "cell_type": "code",
      "source": [
        "#Table of data science tools\n",
        "import pandas as pd\n",
        "df=pd.DataFrame()\n",
        "\n",
        "df['SI NO'] = ['1','2','3','4','5']\n",
        "df['Tools']=['Pandas','Jupyter','Numpy','Scikitlearn','Git']\n",
        "print(df)"
      ],
      "metadata": {
        "colab": {
          "base_uri": "https://localhost:8080/"
        },
        "id": "Bu8Z50eIOv4w",
        "outputId": "1e2b7802-aff8-4920-a11b-5283597a5a13"
      },
      "execution_count": 3,
      "outputs": [
        {
          "output_type": "stream",
          "name": "stdout",
          "text": [
            "  SI NO        Tools\n",
            "0     1       Pandas\n",
            "1     2      Jupyter\n",
            "2     3        Numpy\n",
            "3     4  Scikitlearn\n",
            "4     5          Git\n"
          ]
        }
      ]
    },
    {
      "cell_type": "code",
      "source": [
        "#Arithmetic Expression Examples\n",
        "(9 / 3) * (2 + 7)"
      ],
      "metadata": {
        "colab": {
          "base_uri": "https://localhost:8080/"
        },
        "id": "czOM-bxMSfy-",
        "outputId": "bdf90998-76d3-48bb-dfc6-3d8a08ea97a1"
      },
      "execution_count": 4,
      "outputs": [
        {
          "output_type": "execute_result",
          "data": {
            "text/plain": [
              "27.0"
            ]
          },
          "metadata": {},
          "execution_count": 4
        }
      ]
    },
    {
      "cell_type": "code",
      "source": [
        "a= int(input('Enter the number:'))\n",
        "b= int(input('Enter the number:'))\n",
        "print(a+b)\n",
        "print(a*b)\n"
      ],
      "metadata": {
        "colab": {
          "base_uri": "https://localhost:8080/"
        },
        "id": "9kPscsKaTSMC",
        "outputId": "96191951-5285-4ac4-a5b5-e3682c5092d4"
      },
      "execution_count": 8,
      "outputs": [
        {
          "output_type": "stream",
          "name": "stdout",
          "text": [
            "Enter the number:3\n",
            "Enter the number:5\n",
            "8\n",
            "15\n"
          ]
        }
      ]
    },
    {
      "cell_type": "code",
      "source": [
        "total_minutes = int(input('enter number of minutes:'))\n",
        "hours = total_minutes//60\n",
        "time = \"{}\".format(hours)\n",
        "print(time)"
      ],
      "metadata": {
        "colab": {
          "base_uri": "https://localhost:8080/"
        },
        "id": "pCdFfQLQUob9",
        "outputId": "4ec7b1fc-af31-4cfa-a3ab-6324bf3314e2"
      },
      "execution_count": 11,
      "outputs": [
        {
          "output_type": "stream",
          "name": "stdout",
          "text": [
            "enter number of minutes:120\n",
            "2\n"
          ]
        }
      ]
    },
    {
      "cell_type": "code",
      "source": [
        "# Objectives Of Data Science\n",
        "Below the introduction cell created in Exercise 3, insert a new markdown cell to list the objectives that this notebook covered (i.e. some of the key takeaways from the course). In this new cell start with an introductory line titled: Objectives: in bold font. Then using an unordered list (bullets) indicate 3 to 5 items covered in this notebook, such as List popular languages for Data Science."
      ],
      "metadata": {
        "id": "kxZ-AW0hXpMQ"
      },
      "execution_count": null,
      "outputs": []
    },
    {
      "cell_type": "code",
      "source": [
        "#AUTHOR'S Name\n",
        "Ujwala.k"
      ],
      "metadata": {
        "id": "utJKvz4VYv-N"
      },
      "execution_count": null,
      "outputs": []
    }
  ]
}